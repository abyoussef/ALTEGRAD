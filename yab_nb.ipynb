{
 "cells": [
  {
   "cell_type": "code",
   "execution_count": 7,
   "metadata": {
    "collapsed": false
   },
   "outputs": [],
   "source": [
    "from __future__ import print_function\n",
    "import os\n",
    "import re\n",
    "import numpy as np\n",
    "import pandas as pd\n",
    "from helpers.misc import train_test_split, score, make_X_y, write_to_file\n",
    "from helpers.clean import clean\n",
    "from methods.method import multilabel_classification, baseline_tfidf, baseline, tfidf_centroid, twidf, tfidf\n",
    "from methods.graph_content import graph_content"
   ]
  },
  {
   "cell_type": "code",
   "execution_count": 5,
   "metadata": {
    "collapsed": true
   },
   "outputs": [],
   "source": [
    "def test(method, test_size = 0.4):\n",
    "    path_to_data = 'data/'\n",
    "\n",
    "    print('[INFO] Data loading...')\n",
    "    data = pd.read_csv(os.path.join(path_to_data + 'training_set.csv'), sep=',', header=0)\n",
    "\n",
    "    info = pd.read_csv(os.path.join(path_to_data + 'training_info.csv'), sep=',', header=0)\n",
    "    info['date'] = info['date'].apply(lambda x: re.sub(r'^000([1-9])', r'200\\1', x))\n",
    "\n",
    "    print('[INFO] Performing data cleaning (tokenization, stopwords, stemming, etc.)...')\n",
    "    if os.path.isfile(os.path.join(path_to_data, 'training_info_clean.csv')):\n",
    "        info = pd.read_csv(os.path.join(path_to_data + 'training_info_clean.csv'), sep=',', header=0)\n",
    "        info['body'].fillna('', inplace = True)\n",
    "    else:\n",
    "        info = clean(info)\n",
    "        info.to_csv(os.path.join(path_to_data + 'training_info_clean.csv'), sep=',', index = False)\n",
    "\n",
    "    info['date'] = pd.to_datetime(info['date'], format='%Y-%m-%d %H:%M:%S')\n",
    "\n",
    "    print('[INFO] Splitting data...')\n",
    "    X_train, y_train, X_test, y_test = train_test_split(data, info, test_size = test_size)\n",
    "\n",
    "    print('[INFO] Performing %s' % (method.__name__))\n",
    "    y_pred = method(X_train, y_train, X_test)\n",
    "\n",
    "    print('[INFO] Score', score(y_test, y_pred))"
   ]
  },
  {
   "cell_type": "code",
   "execution_count": 6,
   "metadata": {
    "collapsed": true
   },
   "outputs": [],
   "source": [
    "def submission(method):\n",
    "    path_to_data = 'Data/'\n",
    "\n",
    "    print('[INFO] Data loading...')\n",
    "    training = pd.read_csv(os.path.join(path_to_data + 'training_set.csv'), sep=',', header=0)\n",
    "    training_info = pd.read_csv(os.path.join(path_to_data + 'training_info.csv'), sep=',', header=0)\n",
    "    training_info['date'] = training_info['date'].apply(lambda x: re.sub('^000([1-9])', '200\\1', x))\n",
    "\n",
    "    print('[INFO] Performing data cleaning (tokenization, stopwords, stemming, etc.)...')\n",
    "    if os.path.isfile(os.path.join(path_to_data, 'training_info_clean.csv')):\n",
    "        training_info = pd.read_csv(os.path.join(path_to_data + 'training_info_clean.csv'), sep=',', header=0)\n",
    "        training_info['body'].fillna('', inplace = True)\n",
    "    else:\n",
    "        training_info = clean(training_info)\n",
    "        training_info.to_csv(os.path.join(path_to_data + 'training_info_clean.csv'), sep=',', index = False)\n",
    "\n",
    "    print('[INFO] Data loading...')\n",
    "    test = pd.read_csv(os.path.join(path_to_data + 'test_set.csv'), sep=',', header=0)\n",
    "    test_info = pd.read_csv(os.path.join(path_to_data + 'test_info.csv'), sep=',', header=0)\n",
    "    test_info['date'] = test_info['date'].apply(lambda x: re.sub('^000([1-9])', '200\\1', x))\n",
    "\n",
    "    print('[INFO] Performing data cleaning (tokenization, stopwords, stemming, etc.)...')\n",
    "    if os.path.isfile(os.path.join(path_to_data, 'test_info_clean.csv')):\n",
    "        test_info = pd.read_csv(os.path.join(path_to_data + 'test_info_clean.csv'), sep=',', header=0)\n",
    "        test_info['body'].fillna('', inplace = True)\n",
    "    else:\n",
    "        test_info = clean(test_info)\n",
    "        test_info.to_csv(os.path.join(path_to_data + 'test_info_clean.csv'), sep=',', index = False)\n",
    "\n",
    "    print('[INFO] Making training and test set...')\n",
    "    X_train, y_train = make_X_y(training, training_info)\n",
    "    X_test, _ = make_X_y(test, test_info)\n",
    "\n",
    "    print('[INFO] Method %s' % (method.__name__))\n",
    "    y_pred = method(X_train, y_train, X_test)\n",
    "\n",
    "    print('[INFO] Writing to output file...')\n",
    "    write_to_file(y_pred, os.path.join(path_to_data, method.__name__ + '.csv'))\n",
    "\n",
    "    print('[INFO] Done!')"
   ]
  },
  {
   "cell_type": "code",
   "execution_count": null,
   "metadata": {
    "collapsed": true
   },
   "outputs": [],
   "source": []
  }
 ],
 "metadata": {
  "anaconda-cloud": {},
  "kernelspec": {
   "display_name": "Python [conda env:py27]",
   "language": "python",
   "name": "conda-env-py27-py"
  },
  "language_info": {
   "codemirror_mode": {
    "name": "ipython",
    "version": 2
   },
   "file_extension": ".py",
   "mimetype": "text/x-python",
   "name": "python",
   "nbconvert_exporter": "python",
   "pygments_lexer": "ipython2",
   "version": "2.7.12"
  }
 },
 "nbformat": 4,
 "nbformat_minor": 1
}
